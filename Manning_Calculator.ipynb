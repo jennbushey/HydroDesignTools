{
 "cells": [
  {
   "cell_type": "markdown",
   "metadata": {},
   "source": [
    "To find the depth of flow in a trapezoidal channel using Manning’s equation, you need to use the following steps and formulas:\n",
    "\n",
    "1. **Manning’s Equation**:\n",
    "\n",
    "    $ Q = \\frac{1}{n} A R^{2/3} S^{1/2} $\n",
    "\n",
    "    Where:\n",
    "\n",
    "    - $ Q $ = flow rate (m³/s)\n",
    "    - $ n $ = Manning’s roughness coefficient\n",
    "    - $ A $ = cross-sectional area of flow (m²)\n",
    "    - $ R $ = hydraulic radius (m)\n",
    "    - $ S $ = slope of the channel (m/m)\n",
    "\n",
    "2. **Cross-Sectional Area for a Trapezoidal Channel**:\n",
    "\n",
    "    $A = (b + zy) y$\n",
    "\n",
    "    Where:\n",
    "\n",
    "    - $ b $ = bottom width of the channel (m)\n",
    "    - $ z $ = side slope (horizontal distance per unit vertical distance)\n",
    "    - $ y $ = depth of flow (m)\n",
    "\n",
    "3. **Wetted Perimeter for a Trapezoidal Channel**:\n",
    "   $ P = b + 2y \\sqrt{1 + z^2} $\n",
    "\n",
    "4. **Hydraulic Radius**:\n",
    "   $ R = \\frac{A}{P} $\n",
    "\n",
    "To find the depth $ y $, follow these steps:\n",
    "\n",
    "1. Express the cross-sectional area $ A $ and wetted perimeter $ P $ in terms of $ y $:\n",
    "   $ A = \\left(b + zy\\right) y $\n",
    "   $ P = b + 2y \\sqrt{1 + z^2} $\n",
    "\n",
    "2. Substitute these into the hydraulic radius formula:\n",
    "   $ R = \\frac{\\left(b + zy\\right) y}{b + 2y \\sqrt{1 + z^2}} $\n",
    "\n",
    "3. Substitute $ A $ and $ R $ into Manning’s equation:\n",
    "   $ Q = \\frac{1}{n} \\left[\\left(b + zy\\right) y\\right] \\left[\\frac{\\left(b + zy\\right) y}{b + 2y \\sqrt{1 + z^2}}\\right]^{2/3} S^{1/2} $\n",
    "\n",
    "4. This results in an equation that must be solved iteratively or using numerical methods to find the depth $ y $.\n",
    "\n",
    "Here procedure for the iterative solution:\n",
    "\n",
    "1. Assume an initial depth $ y $.\n",
    "2. Calculate $ A $ using $ A = \\left(b + zy\\right) y $.\n",
    "3. Calculate $ P $ using $ P = b + 2y \\sqrt{1 + z^2} $.\n",
    "4. Calculate $ R $ using $ R = \\frac{A}{P} $.\n",
    "5. Substitute $ A $, $ R $, and $ S $ into Manning’s equation to solve for $ Q $.\n",
    "6. Compare the calculated $ Q $ with the given flow rate.\n",
    "7. Adjust $ y $ and repeat steps 2-6 until the calculated $ Q $ matches the given $ Q $ within an acceptable tolerance.\n"
   ]
  },
  {
   "cell_type": "code",
   "execution_count": 19,
   "metadata": {},
   "outputs": [],
   "source": [
    "import math\n",
    "import pandas as pd\n",
    "import argparse"
   ]
  },
  {
   "cell_type": "code",
   "execution_count": 20,
   "metadata": {},
   "outputs": [],
   "source": [
    "case = {\n",
    "    1: {'name': \"Deep Swale\",\n",
    "        'n': 0.013,\n",
    "        'b': 0.15,\n",
    "        'z': 0.225/0.300,\n",
    "        },\n",
    "    2: {'name': \"Gravel Lane\",\n",
    "        'n': 0.022,\n",
    "        'b': 0,\n",
    "        'z': 1/0.035,\n",
    "        },\n",
    "}"
   ]
  },
  {
   "cell_type": "code",
   "execution_count": 21,
   "metadata": {},
   "outputs": [],
   "source": [
    "def manning_trapezoid(Q, n, b, z, S, y_min=0.001, y_max=10, tolerance=1e-6, max_iterations=1000):\n",
    "    def calculate_flow(y):\n",
    "        A = (b + z * y) * y\n",
    "        P = b + 2 * y * math.sqrt(1 + z * z)\n",
    "        R = A / P\n",
    "        return (1 / n) * A * (R ** (2/3)) * (S ** 0.5), A\n",
    "\n",
    "    low, high = y_min, y_max\n",
    "    for _ in range(max_iterations):\n",
    "        mid = (low + high) / 2\n",
    "        Q_mid, A = calculate_flow(mid)\n",
    "\n",
    "        if abs(Q_mid - Q) < tolerance:\n",
    "            return mid, A\n",
    "        elif Q_mid < Q:\n",
    "            low = mid\n",
    "        else:\n",
    "            high = mid\n",
    "    raise ValueError(\n",
    "        f\"Solution did not converge within {max_iterations} iterations\")"
   ]
  },
  {
   "cell_type": "code",
   "execution_count": 22,
   "metadata": {},
   "outputs": [],
   "source": [
    "def calculate_depth(row):\n",
    "    if row['Type'] == \"Deep Swale\":\n",
    "        params = case[1]\n",
    "        depth, area = manning_trapezoid(\n",
    "            row['Peak Discharge'], params['n'], params['b'], params['z'], row['Slope']/100)\n",
    "    elif row['Type'] == \"Gravel Lane\":\n",
    "        params = case[2]\n",
    "        depth, area = manning_trapezoid(\n",
    "            row['Peak Discharge'], params['n'], params['b'], params['z'], row['Slope']/100)\n",
    "    else:\n",
    "        raise ValueError(f\"Unknown type: {row['Type']}\")\n",
    "    return depth, area"
   ]
  },
  {
   "cell_type": "code",
   "execution_count": 23,
   "metadata": {},
   "outputs": [],
   "source": [
    "def main(input_file):\n",
    "    data = pd.read_csv(input_file, header=0)\n",
    "\n",
    "    data[['Flow Depth', 'Area']] = data.apply(\n",
    "        lambda row: pd.Series(calculate_depth(row)), axis=1)\n",
    "\n",
    "    data['Flow Velocity'] = data['Peak Discharge'] / data['Area']\n",
    "\n",
    "    data.drop(['Area'], axis=1, inplace=True)\n",
    "\n",
    "    new_column_order = ['Location Number', 'Peak Discharge',\n",
    "                        'Slope', 'Location', 'Type', 'Flow Velocity', 'Flow Depth']\n",
    "\n",
    "    data = data[new_column_order]\n",
    "\n",
    "    result_name = input_file.replace('.csv', '_results.csv')\n",
    "\n",
    "    data.to_csv(result_name, index=False)\n",
    "\n",
    "    print(f\"Results saved to {result_name}\")"
   ]
  },
  {
   "cell_type": "code",
   "execution_count": 24,
   "metadata": {},
   "outputs": [
    {
     "name": "stdout",
     "output_type": "stream",
     "text": [
      "Results saved to ./data_trapezoid_results.csv\n"
     ]
    }
   ],
   "source": [
    "if __name__ == \"__main__\":\n",
    "    # parser = argparse.ArgumentParser(\n",
    "    #     description='Calculate depth and velocity for channels.')\n",
    "    # parser.add_argument('input_file', type=str,\n",
    "    #                     help='Path to the input CSV file')\n",
    "    # args = parser.parse_args()\n",
    "\n",
    "    # main(args.input_file)\n",
    "\n",
    "    main('./data_trapezoid.csv')"
   ]
  },
  {
   "cell_type": "code",
   "execution_count": null,
   "metadata": {},
   "outputs": [],
   "source": []
  }
 ],
 "metadata": {
  "kernelspec": {
   "display_name": "ensf-ml",
   "language": "python",
   "name": "python3"
  },
  "language_info": {
   "codemirror_mode": {
    "name": "ipython",
    "version": 3
   },
   "file_extension": ".py",
   "mimetype": "text/x-python",
   "name": "python",
   "nbconvert_exporter": "python",
   "pygments_lexer": "ipython3",
   "version": "3.11.0"
  }
 },
 "nbformat": 4,
 "nbformat_minor": 2
}
